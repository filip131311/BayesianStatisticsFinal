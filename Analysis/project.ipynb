{
 "cells": [
  {
   "cell_type": "markdown",
   "metadata": {},
   "source": [
    "### TO DO:\n",
    "(Problem statement)\n",
    "(Describe the real-world phenomenon you are studying. Explain why the topic is important,\n",
    "relevant, or interesting.)\n",
    "(Uygar)"
   ]
  },
  {
   "cell_type": "markdown",
   "metadata": {},
   "source": [
    "### TO DO:\n",
    "(Data description)\n",
    "Provide a brief description of your dataset, including the data source. \n",
    "(Uygar)"
   ]
  },
  {
   "cell_type": "markdown",
   "metadata": {},
   "source": [
    "### Importing necessary libraries:"
   ]
  },
  {
   "cell_type": "code",
   "execution_count": 303,
   "metadata": {},
   "outputs": [],
   "source": [
    "import pandas as pd \n",
    "import os \n",
    "import pymc\n"
   ]
  },
  {
   "cell_type": "markdown",
   "metadata": {},
   "source": [
    "# Data preprocessing"
   ]
  },
  {
   "cell_type": "markdown",
   "metadata": {},
   "source": [
    "### Load the data and put them into data dictionary "
   ]
  },
  {
   "cell_type": "code",
   "execution_count": 304,
   "metadata": {},
   "outputs": [],
   "source": [
    "# Data path\n",
    "data_path = os.path.join(os.getcwd(), '..', 'Data')\n",
    "\n",
    "# Load the data\n",
    "life_expectancy = pd.read_csv(os.path.join(data_path, 'estat_demo_mlexpec_en.csv'))\n",
    "material_deprivation_rate = pd.read_csv(os.path.join(data_path, 'estat_ilc_mdsd04_filtered_en.csv'))\n",
    "median_and_mean_group_income = pd.read_csv(os.path.join(data_path, 'estat_ilc_di15_filtered_en.csv'))\n",
    "low_work_intensity_households = pd.read_csv(os.path.join(data_path, 'estat_ilc_lvhl16n_filtered_en.csv'))\n",
    "real_gdp = pd.read_csv(os.path.join(data_path, 'estat_tipsna40_en.csv'))\n",
    "population_data = pd.read_csv(os.path.join(data_path, 'estat_demo_pjanbroad_filtered_en.csv'))\n",
    "\n",
    "\n",
    "# Dataframes dictionary \n",
    "dataframes_dict = {\n",
    "    'life_expectancy': life_expectancy,\n",
    "    'material_deprivation_rate': material_deprivation_rate,\n",
    "    'median_and_mean_group_income': median_and_mean_group_income,\n",
    "    'low_work_intensity_households': low_work_intensity_households,\n",
    "    'real_gdp': real_gdp,\n",
    "    'population_data': population_data\n",
    "}\n"
   ]
  },
  {
   "cell_type": "markdown",
   "metadata": {},
   "source": [
    "### Include only EU data and set data collection window to 2004 - 2023\n",
    "GDP data is not older than 2003, therefore we use a data collection window of 2004 - 2023. For some datasets we don't have data from 2024."
   ]
  },
  {
   "cell_type": "code",
   "execution_count": 305,
   "metadata": {},
   "outputs": [],
   "source": [
    "# Include only EU data and set data collection window\n",
    "eu_countries = ['Austria', 'Belgium', 'Bulgaria', 'Cyprus', 'Czechia', 'Germany',\n",
    "       'Denmark','Estonia',\n",
    "       'Greece', 'Spain', 'Finland', 'France', 'Croatia', 'Hungary', 'Ireland', 'Italy',\n",
    "       'Lithuania', 'Luxembourg', 'Latvia', 'Malta', 'Netherlands',\n",
    "       'Poland', 'Portugal', 'Romania', 'Sweden', 'Slovenia', 'Slovakia']\n",
    "\n",
    "for key, df in dataframes_dict.items():\n",
    "    dataframes_dict[key] = df[df['Geopolitical entity (reporting)'].isin(eu_countries)].reset_index(drop=True)\n",
    "for key, df in dataframes_dict.items():\n",
    "    dataframes_dict[key] = df.loc[(df['TIME_PERIOD'] >= 2004) & (df['TIME_PERIOD'] < 2024)].reset_index(drop=True)\n"
   ]
  },
  {
   "cell_type": "markdown",
   "metadata": {},
   "source": [
    "### Filter data for \"Less than one year\" age group\n",
    "This data represents the average life expectancy."
   ]
  },
  {
   "cell_type": "code",
   "execution_count": 306,
   "metadata": {},
   "outputs": [],
   "source": [
    "# Filter life expectancies for newborns\n",
    "dataframes_dict['life_expectancy'] = dataframes_dict['life_expectancy'].loc[dataframes_dict['life_expectancy']['age'] == 'Y_LT1'].reset_index(drop=True)"
   ]
  },
  {
   "cell_type": "markdown",
   "metadata": {},
   "source": [
    "# Filter PPS currency\n",
    "Median and mean data are available in three formats Euro, regional currency and PPS (Purchasing Power Standrad), we decide to use PPS because it adjusts for price level differences across regions, providing a more accurate basis for cross-country comparisons."
   ]
  },
  {
   "cell_type": "code",
   "execution_count": 307,
   "metadata": {},
   "outputs": [],
   "source": [
    "# Filter PPS (Purchasing Power Standard) currency \n",
    "dataframes_dict['median_and_mean_group_income'] = dataframes_dict['median_and_mean_group_income'].loc[dataframes_dict['median_and_mean_group_income']['unit'] == 'PPS'].reset_index(drop=True)\n"
   ]
  },
  {
   "cell_type": "markdown",
   "metadata": {},
   "source": [
    "### Generalize mean and median data \n",
    "Since mean and median values in our dataset are segmented by age groups, we gather corresponding population data and compute weighted averages. This allows us to estimate overall population-level statistics for our analysis. We also remove unnecessary columns. "
   ]
  },
  {
   "cell_type": "code",
   "execution_count": 308,
   "metadata": {},
   "outputs": [
    {
     "name": "stderr",
     "output_type": "stream",
     "text": [
      "/var/folders/y4/lhggv2xd4_g7wl5ry_nch6q40000gn/T/ipykernel_31801/745170445.py:38: FutureWarning: DataFrameGroupBy.apply operated on the grouping columns. This behavior is deprecated, and in a future version of pandas the grouping columns will be excluded from the operation. Either pass `include_groups=False` to exclude the groupings or explicitly select the grouping columns after groupby to silence this warning.\n",
      "  dataframes_dict['median_and_mean_group_income'] = dataframes_dict['median_and_mean_group_income'].groupby(group_cols).apply(weighted_average).reset_index()\n"
     ]
    }
   ],
   "source": [
    "# Generalize mean and median data\n",
    "# Filter age groups present in the data\n",
    "age_groups = ['From 18 to 64 years', '65 years or over']\n",
    "dataframes_dict['median_and_mean_group_income'] = dataframes_dict['median_and_mean_group_income'][dataframes_dict['median_and_mean_group_income']['Age class'].isin(age_groups)].reset_index(drop=True)\n",
    "\n",
    "# Remove unnecessary columns\n",
    "for key, df in dataframes_dict.items():\n",
    "    dataframes_dict[key] = df.drop(columns=['STRUCTURE', 'STRUCTURE_NAME', 'STRUCTURE_ID', 'Confidentiality status (flag)', 'CONF_STATUS', 'Observation status (Flag) V2 structure', 'unit', 'Observation value', 'Time', 'geo', 'age', 'Sex',\n",
    "                                            'Country of citizenship', 'citizen', 'Unit of measure', 'Income and living conditions indicator', 'freq', 'Time frequency', 'OBS_FLAG', 'National accounts indicator (ESA 2010)', 'na_item'], errors='ignore')\n",
    "    \n",
    "    # Because the income date is available only by population, we need to merge it with population data to be able to combine the date for the whole population\n",
    "dataframes_dict['population_data'].rename(columns={'OBS_VALUE': 'population'}, inplace=True)\n",
    "dataframes_dict['population_data'].replace({'Age class': {'From 15 to 64 years': 'From 18 to 64 years'}}, inplace=True)\n",
    "dataframes_dict['population_data'] = dataframes_dict['population_data'].loc[dataframes_dict['population_data']['Age class'] != 'Less than 15 years'].reset_index(drop=True)\n",
    "\n",
    "dataframes_dict['median_and_mean_group_income'] = pd.merge(dataframes_dict['median_and_mean_group_income'],\n",
    "                  dataframes_dict['population_data'],\n",
    "                  on=['sex','Geopolitical entity (reporting)', 'TIME_PERIOD', 'Age class'],\n",
    "                  how='left') \n",
    "\n",
    "# We group the data to calculate the weighted average of OBS_VALUE by population for each group defined\n",
    "group_cols = ['sex', 'Geopolitical entity (reporting)', 'TIME_PERIOD', 'indic_il']\n",
    "\n",
    "def weighted_average(group_df):\n",
    "    weighted_sum = (group_df['OBS_VALUE'] * group_df['population']).sum()\n",
    "    total_population = group_df['population'].sum()\n",
    "    \n",
    "    if total_population > 0:\n",
    "        weighted_avg = weighted_sum / total_population\n",
    "    else:\n",
    "        weighted_avg = 0 \n",
    "    \n",
    "    return pd.Series({\n",
    "        'OBS_VALUE': weighted_avg\n",
    "    })\n",
    "\n",
    "# Transform median and mean into seperate columns\n",
    "dataframes_dict['median_and_mean_group_income'] = dataframes_dict['median_and_mean_group_income'].groupby(group_cols).apply(weighted_average).reset_index()\n",
    "dataframes_dict['life_expectancy'] = dataframes_dict['life_expectancy'].drop(columns='Age class')\n",
    "dataframes_dict['material_deprivation_rate'] = dataframes_dict['material_deprivation_rate'].drop(columns='Age class')\n",
    "dataframes_dict['low_work_intensity_households'] = dataframes_dict['low_work_intensity_households'].drop(columns='Age class')\n",
    "\n",
    "dataframes_dict['median_and_mean_group_income']['indic_il']\n",
    "dataframes_dict['median_and_mean_group_income'] = dataframes_dict['median_and_mean_group_income'].pivot(index=[col for col in dataframes_dict['median_and_mean_group_income'].columns if col not in ['indic_il', 'OBS_VALUE']], columns='indic_il', values='OBS_VALUE').reset_index()\n"
   ]
  },
  {
   "cell_type": "markdown",
   "metadata": {},
   "source": [
    "# Rename columns"
   ]
  },
  {
   "cell_type": "code",
   "execution_count": 309,
   "metadata": {},
   "outputs": [],
   "source": [
    "# Rename columns \n",
    "dataframes_dict['real_gdp'] = dataframes_dict['real_gdp'].rename(columns={'OBS_VALUE': 'real_gdp'})\n",
    "dataframes_dict['low_work_intensity_households'] = dataframes_dict['low_work_intensity_households'].rename(columns={'OBS_VALUE': 'people_in_low_work_intensity_household_perc'})\n",
    "dataframes_dict['material_deprivation_rate'] = dataframes_dict['material_deprivation_rate'].rename(columns={'OBS_VALUE': 'material_deprivation_rate_perc'})"
   ]
  },
  {
   "cell_type": "markdown",
   "metadata": {},
   "source": [
    "### Create columns for GDP, mean and median 5 and 10 years later\n",
    "We limit the TIME_PERIOD column to values from 2014 to 2023. However, we retain earlier data to compute additional columns for GDP, mean, and median income from 5 and 10 years prior. Data on material and social deprivation rates, as well as the share of people living in low work intensity households, is only available from 2014 onward and is used as-is."
   ]
  },
  {
   "cell_type": "code",
   "execution_count": 313,
   "metadata": {},
   "outputs": [],
   "source": [
    "# Limit life expectancy to 2014 \n",
    "dataframes_dict['life_expectancy'] = dataframes_dict['life_expectancy'].loc[dataframes_dict['life_expectancy']['TIME_PERIOD'] >= 2014].reset_index(drop=True)\n",
    "\n",
    "# Prepare GDP data for merging by creating shifted year columns\n",
    "dataframes_dict['real_gdp']['TIME_PERIOD_minus_5'] = dataframes_dict['real_gdp']['TIME_PERIOD'] + 5\n",
    "dataframes_dict['real_gdp']['TIME_PERIOD_minus_10'] = dataframes_dict['real_gdp']['TIME_PERIOD'] + 10\n",
    "\n",
    "# Merge life expectancy with current year GDP\n",
    "df_merged = pd.merge(dataframes_dict['life_expectancy'], dataframes_dict['real_gdp'][['Geopolitical entity (reporting)', 'TIME_PERIOD', 'real_gdp']], how='left', left_on=['Geopolitical entity (reporting)', 'TIME_PERIOD'], right_on=['Geopolitical entity (reporting)', 'TIME_PERIOD'])\n",
    "df_merged.rename(columns={'real_gdp': 'real_gdp_current'}, inplace=True)\n",
    "\n",
    "# Merge life expectancy with GDP from 5 years before\n",
    "df_merged = pd.merge(df_merged, dataframes_dict['real_gdp'][['Geopolitical entity (reporting)', 'TIME_PERIOD_minus_5', 'real_gdp']], how='left', left_on=['Geopolitical entity (reporting)', 'TIME_PERIOD'], right_on=['Geopolitical entity (reporting)', 'TIME_PERIOD_minus_5'])\n",
    "df_merged.rename(columns={'real_gdp': 'real_gdp_minus_5'}, inplace=True)\n",
    "\n",
    "# Merge life expectancy with GDP from 10 years before\n",
    "df_merged = pd.merge(df_merged, dataframes_dict['real_gdp'][['Geopolitical entity (reporting)', 'TIME_PERIOD_minus_10', 'real_gdp']], how='left', left_on=['Geopolitical entity (reporting)', 'TIME_PERIOD'], right_on=['Geopolitical entity (reporting)', 'TIME_PERIOD_minus_10'])\n",
    "df_merged.rename(columns={'real_gdp': 'real_gdp_minus_10'}, inplace=True)\n",
    "\n",
    "# Cleanup unnecessary columns\n",
    "df_merged.drop(columns=['TIME_PERIOD_minus_5', 'TIME_PERIOD_minus_10'], inplace=True)\n",
    "\n"
   ]
  },
  {
   "cell_type": "markdown",
   "metadata": {},
   "source": []
  },
  {
   "cell_type": "markdown",
   "metadata": {},
   "source": []
  },
  {
   "cell_type": "code",
   "execution_count": null,
   "metadata": {},
   "outputs": [],
   "source": []
  },
  {
   "cell_type": "code",
   "execution_count": 248,
   "metadata": {},
   "outputs": [
    {
     "name": "stdout",
     "output_type": "stream",
     "text": [
      "                MED_E     MEI_E  OBS_VALUE  mean-median  qoutient  real_gdp\n",
      "MED_E        1.000000  0.995950   0.668230     0.660977 -0.316581  0.872864\n",
      "MEI_E        0.995950  1.000000   0.675476     0.725769 -0.236419  0.869458\n",
      "OBS_VALUE    0.668230  0.675476   1.000000     0.524749 -0.204224  0.537165\n",
      "mean-median  0.660977  0.725769   0.524749     1.000000  0.449093  0.578019\n",
      "qoutient    -0.316581 -0.236419  -0.204224     0.449093  1.000000 -0.264373\n",
      "real_gdp     0.872864  0.869458   0.537165     0.578019 -0.264373  1.000000\n",
      "                MED_E     MEI_E  OBS_VALUE  mean-median  qoutient  real_gdp\n",
      "MED_E        1.000000  0.995592   0.719632     0.644273 -0.278261  0.868714\n",
      "MEI_E        0.995592  1.000000   0.717304     0.713166 -0.193164  0.863839\n",
      "OBS_VALUE    0.719632  0.717304   1.000000     0.470518 -0.255935  0.628401\n",
      "mean-median  0.644273  0.713166   0.470518     1.000000  0.504596  0.551168\n",
      "qoutient    -0.278261 -0.193164  -0.255935     0.504596  1.000000 -0.239589\n",
      "real_gdp     0.868714  0.863839   0.628401     0.551168 -0.239589  1.000000\n",
      "                MED_E     MEI_E  OBS_VALUE  mean-median  qoutient  real_gdp\n",
      "MED_E        1.000000  0.995895   0.712906     0.658578 -0.296575  0.871927\n",
      "MEI_E        0.995895  1.000000   0.714862     0.723986 -0.215124  0.867173\n",
      "OBS_VALUE    0.712906  0.714862   1.000000     0.510093 -0.241327  0.601597\n",
      "mean-median  0.658578  0.723986   0.510093     1.000000  0.471741  0.564462\n",
      "qoutient    -0.296575 -0.215124  -0.241327     0.471741  1.000000 -0.256770\n",
      "real_gdp     0.871927  0.867173   0.601597     0.564462 -0.256770  1.000000\n"
     ]
    }
   ],
   "source": [
    "merged = pd.merge(dataframes_dict['median_and_mean_group_income'], dataframes_dict['life_expectancy'], on=['sex', 'TIME_PERIOD', 'Geopolitical entity (reporting)']).reset_index(drop=True)\n",
    "merged = pd.merge(merged, dataframes_dict['real_gdp'], on=['TIME_PERIOD', 'Geopolitical entity (reporting)'])\n",
    "pd.merge(merged, dataframes_dict['material_deprivation_rate'], on=['sex', 'TIME_PERIOD', 'Geopolitical entity (reporting)']).reset_index(drop=True)\n",
    "\n",
    "\n",
    "merged['mean-median'] = merged['MEI_E'] - merged['MED_E']\n",
    "merged['qoutient'] = (merged['MEI_E'] - merged['MED_E']) / merged['MED_E']\n",
    "women = merged.loc[merged['sex'] == 'F'].reset_index(drop=True)\n",
    "men = merged.loc[merged['sex'] == 'M'].reset_index(drop=True)\n",
    "total = merged.loc[merged['sex'] == 'T'].reset_index(drop=True)\n",
    "\n",
    "corr_matrix_women = women[['MED_E', 'MEI_E', 'OBS_VALUE', 'mean-median', 'qoutient', 'real_gdp']].corr()\n",
    "corr_matrix_men = men[['MED_E', 'MEI_E', 'OBS_VALUE', 'mean-median', 'qoutient', 'real_gdp']].corr()\n",
    "corr_matrix_total = total[['MED_E', 'MEI_E', 'OBS_VALUE', 'mean-median', 'qoutient', 'real_gdp']].corr()\n",
    "\n",
    "print(corr_matrix_women)\n",
    "print(corr_matrix_men)\n",
    "print(corr_matrix_total)\n"
   ]
  }
 ],
 "metadata": {
  "kernelspec": {
   "display_name": "pymc_env",
   "language": "python",
   "name": "python3"
  },
  "language_info": {
   "codemirror_mode": {
    "name": "ipython",
    "version": 3
   },
   "file_extension": ".py",
   "mimetype": "text/x-python",
   "name": "python",
   "nbconvert_exporter": "python",
   "pygments_lexer": "ipython3",
   "version": "3.13.3"
  }
 },
 "nbformat": 4,
 "nbformat_minor": 2
}
