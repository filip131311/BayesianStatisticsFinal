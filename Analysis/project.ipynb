{
 "cells": [
  {
   "cell_type": "markdown",
   "metadata": {},
   "source": [
    "### Importing necessary libraries:"
   ]
  },
  {
   "cell_type": "code",
   "execution_count": 2,
   "metadata": {},
   "outputs": [],
   "source": [
    "import pandas as pd \n",
    "import os \n",
    "import pymc\n"
   ]
  },
  {
   "cell_type": "markdown",
   "metadata": {},
   "source": [
    "### Data preprocessing"
   ]
  },
  {
   "cell_type": "code",
   "execution_count": 110,
   "metadata": {},
   "outputs": [],
   "source": [
    "# Data path\n",
    "data_path = os.path.join(os.getcwd(), '..', 'Data')\n",
    "\n",
    "# Load the data\n",
    "life_expectancy = pd.read_csv(os.path.join(data_path, 'estat_demo_mlexpec_en.csv'))\n",
    "material_deprivation_rate = pd.read_csv(os.path.join(data_path, 'estat_ilc_chmd03_en.csv'))\n",
    "median_and_mean_group_income = pd.read_csv(os.path.join(data_path, 'estat_ilc_di15_filtered_en.csv'))\n",
    "low_work_intensity_households = pd.read_csv(os.path.join(data_path, 'estat_ilc_lvhl16n_en.csv'))\n",
    "real_gdp = pd.read_csv(os.path.join(data_path, 'estat_tipsna40_en.csv'))\n",
    "population_data = pd.read_csv(os.path.join(data_path, 'estat_demo_pjanbroad_filtered_en.csv'))\n",
    "\n",
    "# Dataframes dictionary \n",
    "dataframes_dict = {\n",
    "    'life_expectancy': life_expectancy,\n",
    "    'material_deprivation_rate': material_deprivation_rate,\n",
    "    'median_and_mean_group_income': median_and_mean_group_income,\n",
    "    'low_work_intensity_households': low_work_intensity_households,\n",
    "    'real_gdp': real_gdp,\n",
    "    'population_data': population_data\n",
    "}\n",
    "\n",
    "# Include only EU data and filter data older than 2003, (because gdp data is not older than 2003). Remove also NaN time period\n",
    "eu_countries = ['Austria', 'Belgium', 'Bulgaria', 'Cyprus', 'Czechia', 'Germany',\n",
    "       'Denmark','Estonia',\n",
    "       'Greece', 'Spain', 'Finland', 'France', 'Croatia', 'Hungary', 'Ireland', 'Italy',\n",
    "       'Lithuania', 'Luxembourg', 'Latvia', 'Malta', 'Netherlands',\n",
    "       'Poland', 'Portugal', 'Romania', 'Sweden', 'Slovenia', 'Slovakia']\n",
    "\n",
    "for key, df in dataframes_dict.items():\n",
    "    dataframes_dict[key] = df[df['Geopolitical entity (reporting)'].isin(eu_countries)].reset_index(drop=True)\n",
    "    dataframes_dict[key]['TIME_PERIOD'] = df['TIME_PERIOD'].loc[df['TIME_PERIOD'] >= 2003].reset_index(drop=True)\n",
    "    dataframes_dict[key] = df.dropna(subset=['TIME_PERIOD']).reset_index(drop=True)\n",
    "\n",
    "# Filter life expectancies for newborns\n",
    "dataframes_dict['life_expectancy'] = dataframes_dict['life_expectancy'].loc[dataframes_dict['life_expectancy']['age'] == 'Y_LT1'].reset_index(drop=True)\n",
    "\n",
    "# Generalize mean and median data\n",
    "# Filter age groups present in the data\n",
    "age_groups = ['From 18 to 64 years', '65 years or over']\n",
    "dataframes_dict['median_and_mean_group_income'] = dataframes_dict['median_and_mean_group_income'][dataframes_dict['median_and_mean_group_income']['Age class'].isin(age_groups)].reset_index(drop=True)\n",
    "\n",
    "# Drop NaN's\n",
    "dataframes_dict['median_and_mean_group_income'] = dataframes_dict['median_and_mean_group_income'].dropna(subset=['Age class']).reset_index(drop=True)\n",
    "\n",
    "# Fit\n",
    "\n",
    "\n",
    "# Final dataset \n",
    "\n"
   ]
  },
  {
   "cell_type": "code",
   "execution_count": 112,
   "metadata": {},
   "outputs": [
    {
     "data": {
      "text/plain": [
       "array(['NR'], dtype=object)"
      ]
     },
     "execution_count": 112,
     "metadata": {},
     "output_type": "execute_result"
    }
   ],
   "source": [
    "dataframes_dict['median_and_mean_group_income']['unit'].unique()\n"
   ]
  }
 ],
 "metadata": {
  "kernelspec": {
   "display_name": "pymc_env",
   "language": "python",
   "name": "python3"
  },
  "language_info": {
   "codemirror_mode": {
    "name": "ipython",
    "version": 3
   },
   "file_extension": ".py",
   "mimetype": "text/x-python",
   "name": "python",
   "nbconvert_exporter": "python",
   "pygments_lexer": "ipython3",
   "version": "3.13.3"
  }
 },
 "nbformat": 4,
 "nbformat_minor": 2
}
