{
 "cells": [
  {
   "cell_type": "markdown",
   "metadata": {},
   "source": [
    "### Importing necessary libraries:"
   ]
  },
  {
   "cell_type": "code",
   "execution_count": 4,
   "metadata": {},
   "outputs": [],
   "source": [
    "import pandas as pd \n",
    "import os \n",
    "import pymc\n"
   ]
  },
  {
   "cell_type": "markdown",
   "metadata": {},
   "source": [
    "### Data preprocessing"
   ]
  },
  {
   "cell_type": "code",
   "execution_count": null,
   "metadata": {},
   "outputs": [
    {
     "name": "stdout",
     "output_type": "stream",
     "text": [
      "['Austria' 'Belgium' 'Bulgaria' 'Cyprus' 'Czechia' 'Germany' 'Denmark'\n",
      " 'Estonia' 'Greece' 'Spain' 'Finland' 'France' 'Croatia' 'Hungary'\n",
      " 'Ireland' 'Italy' 'Lithuania' 'Luxembourg' 'Latvia' 'Malta' 'Netherlands'\n",
      " 'Poland' 'Portugal' 'Romania' 'Sweden' 'Slovenia' 'Slovakia']\n",
      "['From 18 to 64 years' '65 years or over']\n",
      "['Austria' 'Belgium' 'Bulgaria' 'Cyprus' 'Czechia' 'Germany' 'Denmark'\n",
      " 'Estonia' 'Greece' 'Spain' 'Finland' 'France' 'Croatia' 'Hungary'\n",
      " 'Ireland' 'Italy' 'Lithuania' 'Luxembourg' 'Latvia' 'Malta' 'Netherlands'\n",
      " 'Poland' 'Portugal' 'Romania' 'Sweden' 'Slovenia' 'Slovakia']\n",
      "['From 18 to 64 years' '65 years or over']\n"
     ]
    }
   ],
   "source": [
    "# Data path\n",
    "data_path = os.path.join(os.getcwd(), '..', 'Data')\n",
    "\n",
    "# Load the data\n",
    "life_expectancy = pd.read_csv(os.path.join(data_path, 'estat_demo_mlexpec_en.csv'))\n",
    "material_deprivation_rate = pd.read_csv(os.path.join(data_path, 'estat_ilc_chmd03_en.csv'))\n",
    "median_and_mean_group_income = pd.read_csv(os.path.join(data_path, 'estat_ilc_di15_filtered_en.csv'))\n",
    "low_work_intensity_households = pd.read_csv(os.path.join(data_path, 'estat_ilc_lvhl16n_en.csv'))\n",
    "real_gdp = pd.read_csv(os.path.join(data_path, 'estat_tipsna40_en.csv'))\n",
    "population_data = pd.read_csv(os.path.join(data_path, 'estat_demo_pjanbroad_filtered_en.csv'))\n",
    "\n",
    "# Dataframes dictionary \n",
    "dataframes_dict = {\n",
    "    'life_expectancy': life_expectancy,\n",
    "    'material_deprivation_rate': material_deprivation_rate,\n",
    "    'median_and_mean_group_income': median_and_mean_group_income,\n",
    "    'low_work_intensity_households': low_work_intensity_households,\n",
    "    'real_gdp': real_gdp,\n",
    "    'population_data': population_data\n",
    "}\n",
    "\n",
    "# Include only EU data and filter data older than 2003, (because gdp data is not older than 2003). Remove also NaN time period\n",
    "eu_countries = ['Austria', 'Belgium', 'Bulgaria', 'Cyprus', 'Czechia', 'Germany',\n",
    "       'Denmark','Estonia',\n",
    "       'Greece', 'Spain', 'Finland', 'France', 'Croatia', 'Hungary', 'Ireland', 'Italy',\n",
    "       'Lithuania', 'Luxembourg', 'Latvia', 'Malta', 'Netherlands',\n",
    "       'Poland', 'Portugal', 'Romania', 'Sweden', 'Slovenia', 'Slovakia']\n",
    "\n",
    "for key, df in dataframes_dict.items():\n",
    "    dataframes_dict[key] = df[df['Geopolitical entity (reporting)'].isin(eu_countries)].reset_index(drop=True)\n",
    "for key, df in dataframes_dict.items():\n",
    "    dataframes_dict[key]['TIME_PERIOD'] = df['TIME_PERIOD'].loc[df['TIME_PERIOD'] >= 2003].reset_index(drop=True)\n",
    "for key, df in dataframes_dict.items():\n",
    "    dataframes_dict[key] = df.dropna(subset=['TIME_PERIOD']).reset_index(drop=True)\n",
    "\n",
    "# Filter life expectancies for newborns\n",
    "dataframes_dict['life_expectancy'] = dataframes_dict['life_expectancy'].loc[dataframes_dict['life_expectancy']['age'] == 'Y_LT1'].reset_index(drop=True)\n",
    "\n",
    "# Generalize mean and median data\n",
    "# Filter age groups present in the data\n",
    "age_groups = ['From 18 to 64 years', '65 years or over']\n",
    "dataframes_dict['median_and_mean_group_income'] = dataframes_dict['median_and_mean_group_income'][dataframes_dict['median_and_mean_group_income']['Age class'].isin(age_groups)].reset_index(drop=True)\n",
    "\n",
    "# Drop NaN's\n",
    "dataframes_dict['median_and_mean_group_income'] = dataframes_dict['median_and_mean_group_income'].dropna(subset=['Age class']).reset_index(drop=True)\n",
    "\n",
    "# Filter PPS (Purchasing Power Standard) currency \n",
    "dataframes_dict['median_and_mean_group_income'] = dataframes_dict['median_and_mean_group_income'].loc[dataframes_dict['median_and_mean_group_income']['unit'] == 'PPS'].reset_index(drop=True)\n",
    "\n",
    "# Remove unnecessary columns\n",
    "for key, df in dataframes_dict.items():\n",
    "    dataframes_dict[key] = df.drop(columns=['STRUCTURE', 'STRUCTURE_NAME', 'STRUCTURE_ID', 'Confidentiality status (flag)', 'CONF_STATUS', 'Observation status (Flag) V2 structure', 'unit', 'Observation value', 'Time', 'geo', 'age', 'Sex',\n",
    "                                            'Country of citizenship', 'citizen', 'Unit of measure', 'Income and living conditions indicator', 'freq', 'Time frequency', 'OBS_FLAG'], errors='ignore')\n",
    "\n",
    "\n",
    "\n",
    "dataframes_dict['population_data'].rename(columns={'OBS_VALUE': 'population'}, inplace=True)\n",
    "dataframes_dict['population_data'].replace({'Age class': {'From 15 to 64 years': 'From 18 to 64 years'}}, inplace=True)\n",
    "dataframes_dict['population_data'] = dataframes_dict['population_data'].loc[dataframes_dict['population_data']['Age class'] != 'Less than 15 years'].reset_index(drop=True)\n",
    "\n",
    "print(dataframes_dict['population_data']['Geopolitical entity (reporting)'].unique())\n",
    "print(dataframes_dict['population_data']['Age class'].unique())\n",
    "print(dataframes_dict['median_and_mean_group_income']['Geopolitical entity (reporting)'].unique())\n",
    "print(dataframes_dict['median_and_mean_group_income']['Age class'].unique())\n",
    "\n",
    "\n",
    "dataframes_dict['median_and_mean_group_income'] = pd.merge(dataframes_dict['median_and_mean_group_income'],\n",
    "                  dataframes_dict['population_data'],\n",
    "                  on=['sex','Geopolitical entity (reporting)', 'TIME_PERIOD', 'Age class'],\n",
    "                  how='left') \n",
    "\n",
    "# group_cols = ['sex', 'Geopolitical entity (reporting)', 'TIME_PERIOD', 'indic_il']\n",
    "\n",
    "# # Custom function applied to DataFrame of each group\n",
    "# def custom_func(group_df):\n",
    "#     # Accessing multiple columns\n",
    "#     max_diff = group_df['OBS_VALUE'].max() - group_df['OBS_VALUE'].min()\n",
    "#     # Returning a Series\n",
    "#     return pd.Series({\n",
    "#         'STRUCTURE_NAME': group_df['STRUCTURE_NAME'].iloc[0],  # Taking first as an example\n",
    "#         'Ranged_OBS_VALUE': max_diff  # Calculated range-related result\n",
    "#     })\n",
    "\n",
    "# # Applying the function with groupby and apply\n",
    "# result = dataframes_dict['median_and_mean_group_income'].groupby(group_cols).apply(custom_func).reset_index()\n",
    "\n",
    "# # result is your final DataFrame with aggregated 'OBS_VALUE' and single entries for other columns\n",
    "# print(result)\n"
   ]
  },
  {
   "cell_type": "code",
   "execution_count": 11,
   "metadata": {},
   "outputs": [
    {
     "name": "stdout",
     "output_type": "stream",
     "text": [
      "Data in Group:\n",
      "0    1\n",
      "1    2\n",
      "4    5\n",
      "Name: Values, dtype: int64\n",
      "Data in Group:\n",
      "2    3\n",
      "3    4\n",
      "5    6\n",
      "Name: Values, dtype: int64\n",
      "\n",
      "Aggregation Result:\n",
      "Category\n",
      "A    4\n",
      "B    3\n",
      "Name: Values, dtype: int64\n"
     ]
    }
   ],
   "source": [
    "import pandas as pd\n",
    "\n",
    "# Create a sample DataFrame\n",
    "df = pd.DataFrame({\n",
    "    'Category': ['A', 'A', 'B', 'B', 'A', 'B'],\n",
    "    'Values': [1, 2, 3, 4, 5, 6]\n",
    "})\n",
    "\n",
    "# Function to compute range\n",
    "def range_func(group):\n",
    "    print(\"Data in Group:\")\n",
    "    print(group)  # this line prints the values in the current group being processed\n",
    "    return group.max() - group.min()\n",
    "\n",
    "# Group by 'Category' and apply custom aggregation\n",
    "result = df.groupby('Category')['Values'].agg(range_func)\n",
    "print(\"\\nAggregation Result:\")\n",
    "print(result)"
   ]
  },
  {
   "cell_type": "code",
   "execution_count": 6,
   "metadata": {},
   "outputs": [
    {
     "data": {
      "text/plain": [
       "array(['PPS'], dtype=object)"
      ]
     },
     "execution_count": 6,
     "metadata": {},
     "output_type": "execute_result"
    }
   ],
   "source": [
    "dataframes_dict['life_expectancy'].head()\n",
    "dataframes_dict['low_work_intensity_households'].head()\n",
    "dataframes_dict['material_deprivation_rate'].head()\n",
    "dataframes_dict['median_and_mean_group_income'].head()\n",
    "dataframes_dict['population_data'].head()\n",
    "# dataframes_dict['real_gdp'].head()\n",
    "dataframes_dict['population_data']['TIME_PERIOD'].unique()\n",
    "dataframes_dict['median_and_mean_group_income']['unit'].unique()"
   ]
  },
  {
   "cell_type": "code",
   "execution_count": 11,
   "metadata": {},
   "outputs": [
    {
     "data": {
      "text/plain": [
       "<pandas.core.groupby.generic.SeriesGroupBy object at 0x175a0aa50>"
      ]
     },
     "execution_count": 11,
     "metadata": {},
     "output_type": "execute_result"
    }
   ],
   "source": [
    "df = pd.DataFrame({\n",
    "    'Department': ['Sales', 'Sales', 'HR', 'HR', 'IT'],\n",
    "    'Salary': [50000, 60000, 45000, 48000, 70000]\n",
    "})\n",
    "\n",
    "# Group by department and calculate average salary\n",
    "grouped = df.groupby('Department')['Salary']\n",
    "grouped"
   ]
  }
 ],
 "metadata": {
  "kernelspec": {
   "display_name": "pymc_env",
   "language": "python",
   "name": "python3"
  },
  "language_info": {
   "codemirror_mode": {
    "name": "ipython",
    "version": 3
   },
   "file_extension": ".py",
   "mimetype": "text/x-python",
   "name": "python",
   "nbconvert_exporter": "python",
   "pygments_lexer": "ipython3",
   "version": "3.13.3"
  }
 },
 "nbformat": 4,
 "nbformat_minor": 2
}
